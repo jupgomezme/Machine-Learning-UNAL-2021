{
  "nbformat": 4,
  "nbformat_minor": 0,
  "metadata": {
    "colab": {
      "name": "Entregable 1 - ML.ipynb",
      "provenance": [],
      "collapsed_sections": []
    },
    "kernelspec": {
      "name": "python3",
      "display_name": "Python 3"
    },
    "language_info": {
      "name": "python"
    }
  },
  "cells": [
    {
      "cell_type": "markdown",
      "metadata": {
        "id": "5crwgNSE4m2z"
      },
      "source": [
        "# Primera ronda de ejercicios"
      ]
    },
    {
      "cell_type": "markdown",
      "metadata": {
        "id": "LPsPEW1C4uuE"
      },
      "source": [
        "## Ejercicio 1.2\n",
        "\n",
        "Suponga que utilizamos un perceptrón para detectar mensajes de spam. Digamos que cada mensaje de correo se representa por una frecuencia de ocurrencia de palabras clave y que la salida es $+1$ si el mensaje se considera spam.\n",
        "\n",
        "1.   ¿Puedes pensar en algunas palabras claves que tendrán un peso cuyo valor sea grande (positivamente) en el perceptrón?\n",
        "\n",
        "**Solución.**\n",
        "\n",
        "Estas palabras claves deben ser palabras cuya presencia en un correo sea un buen indicador de que el correo es en efecto spam, ejemplos serían:\n",
        "\n",
        "1.   Promoción / Oferta\n",
        "2.   Gratis / Regalo / Barato / Lotería / Ganador\n",
        "3.   Click / Ingresa / Suscríbete\n",
        "4.   Urgente / Ayuda\n",
        "\n",
        "entre otras.\n",
        "\n",
        "2.   ¿Qué hay acerca de las palabras clave que obtendrán un peso negativo?\n",
        "\n",
        "**Solución.**\n",
        "\n",
        "Éstas son palabras que de estar presentes en el correo disminuirían las posibilidades de que el mensaje fuera spam, considere por ejemplo palabras coloquiales cuyo uso se dé en conversaciones informales que uno tiene con personas cercanas y por lo cual sería muy difícil que estén presentes en mensajes de spam.\n",
        "\n",
        "3.   ¿Qué parámetro en el perceptrón afecta directamente cuántos mensajes terminan siendo clasificados como spam?\n",
        "\n",
        "**Solución.**\n",
        "\n",
        "Este parámetro es el bias $b$ pues un mensaje es clasificado como spam si y sólo si la suma pesada de sus características pasa el umbral $b$, es decir que $x = (x_1,\\dots,x_d)$ es clasificado como spam si y sólo si\n",
        "\n",
        "$$\\sum_{i=1}^d w_ix_i + b > 0 \\Leftrightarrow \\sum_{i=1}^d w_ix_i > -b$$"
      ]
    },
    {
      "cell_type": "markdown",
      "metadata": {
        "id": "EknN-4vKH_IT"
      },
      "source": [
        "## Ejercicio 1.3\n",
        "\n",
        "La regla de actualización $w(t+1) = w(t) + y(t)x(t)$ tiene la buena interpretación de que se mueve en la dirección de clasificar x(t) correctamente.\n",
        "\n",
        "1.   Muestre que $y(t)w^T(t)x(t) < 0$.\n",
        "\n",
        "**Solución.**\n",
        "\n",
        "Note que la predicción que hace el perceptrón en la iteración $t$-ésima está dada por $sign(w^T(t) x(t))$ y como estamos asumiendo que $x(t)$ está clasificado incorrectamente, debemos tener que $sign(w^T(t) x(t)) \\neq y(t)$ y por tanto $y(t) \\cdot w(t) x(t) < 0$.\n",
        "\n",
        "2.   Muestre que $y(t)w^T(t+1)x(t) > y(t)w^T(t)x(t)$\n",
        "\n",
        "**Solución.**\n",
        "\n",
        "$$\n",
        "\\begin{align*}\n",
        "y(t)w^T(t+1)x(t) &=  y(t)(w(t) + y(t)x(t)) x(t) \\\\\n",
        "&= y(t)w^T(t)x(t) + (y(t))^2x^T(t) x(t) \\\\\n",
        "&= y(t)w^T(t)x(t) + x^T(t) x(t) \\\\\n",
        "& >  y(t)w^T(t)x(t)\n",
        "\\end{align*}\n",
        "$$\n",
        "\n",
        "donde la última parte se tiene porque $x^T(t) x(t)> 0$.\n",
        "\n",
        "3.   En lo que concierne a la clasificación de $x(t)$, argumente que el movimiento de $w(t)$ a $w(t+1)$ es un movimiento en la dirección correcta. \n",
        "\n",
        "**Solución.**\n",
        "\n",
        "Dado que $x(t)$ está mal clasificado, tenemos que $sign(w^T(t)x(t)) \\neq sign(y(t))$ o dicho de otra manera $y(t) \\cdot w^T(t)x(t) < 0$, no obstante, para clasificar correctamente a $x(t)$ necesitamos que $sign(w^T(t)x(t)) = sign(y(t))$ o dicho de otra manera que $y(t) \\cdot w^T(t)x(t) > 0$ y aunque al utilizar la regla de actualización no podemos garantizar esto, sí podemos garantizar que $y(t) \\cdot w^T(t+1)x(t)$ es menos negativo que $y(t) \\cdot w^T(t)x(t)$, es decir que éste es un movimiento en la dirección correcta."
      ]
    },
    {
      "cell_type": "markdown",
      "metadata": {
        "id": "l_EbrTDttDSE"
      },
      "source": [
        "## Ejercicio 1.10\n",
        "\n",
        "A continuación, se muestra un experimento que ilustra la diferencia entre un solo recipiente y varios recipientes. Ejecute una simulación por computador para lanzar $1000$ monedas justas. Lanza cada moneda de forma independiente $10$ veces. Centrémonos en $3$ monedas de la siguiente manera:\n",
        "$ c_ {1} $ es la primera moneda lanzada; $c_{\\text{rand}}$ es una moneda que eliges al azar; $c_{\\min} $ es la moneda que tuvo la frecuencia mínima de caras (elija la primera en caso de empate). Sea $ \\nu_{1}, \\nu_{\\text{rand}} $ y $ \\nu_{\\min} $ la fracción de caras que obtenga por las tres monedas respectivas.\n",
        "\n",
        "**Solución**\n"
      ]
    },
    {
      "cell_type": "code",
      "metadata": {
        "id": "4z4kvwHE4bI7",
        "colab": {
          "base_uri": "https://localhost:8080/"
        },
        "outputId": "59110a8f-5fb5-4378-a891-22b8b94dd013"
      },
      "source": [
        "import numpy as np\n",
        "from IPython.display import clear_output\n",
        "\n",
        "#Para nosotros cara es 1 y sello es 0\n",
        "\n",
        "def lanzar_monedas(n,m):\n",
        "  #Esta función lanza n monedas, cada una m veces\n",
        "  return np.random.choice([0,1], size = (n,m))\n",
        "\n",
        "def obtener_monedas_importantes(monedas):\n",
        "  #Esta función retorna c_1, c_rand y c_min\n",
        "  c1 = monedas[1,:]\n",
        "\n",
        "  n_fila_aleatoria = np.random.choice(monedas.shape[0], size = 1)\n",
        "  c_rand = monedas[n_fila_aleatoria][0]\n",
        "\n",
        "  n_caras = np.apply_along_axis(lambda x: np.linalg.norm(x, ord = 0), 1, monedas)\n",
        "  indice_min = np.where(n_caras == np.amin(n_caras))[0][0]\n",
        "  c_min = monedas[indice_min,:]\n",
        "\n",
        "  indices_monedas_importantes = [1,n_fila_aleatoria[0],indice_min]\n",
        "  return (c1, c_rand, c_min), indices_monedas_importantes\n",
        "\n",
        "def obtener_frecuencias_importantes(monedas_importantes):\n",
        "  #Esta función retorna v_1, v_rand y v_min\n",
        "  return [np.linalg.norm(moneda_importante, ord = 0)/10 for moneda_importante in monedas_importantes]\n",
        "\n",
        "def ejecutar_experimento(n = 1000, m = 10, imprimir = True):\n",
        "  #Esta función ejecuta un experimento\n",
        "  monedas = lanzar_monedas(n,m)\n",
        "  monedas_importantes, indices_monedas_importantes = obtener_monedas_importantes(monedas)\n",
        "  frecuencias_importantes = obtener_frecuencias_importantes(monedas_importantes)\n",
        "\n",
        "  if imprimir:\n",
        "    print(\"----------------------------------\")\n",
        "    print(\"Experimento ejecutado exitosamente\")\n",
        "    print(\"----------------------------------\")\n",
        "    print(\"c_rand: Moneda #\", indices_monedas_importantes[1])\n",
        "    print(\"c_min: Moneda #\", indices_monedas_importantes[2])\n",
        "    print(\"----------------------------------\")\n",
        "    print(\"v_1 = \", frecuencias_importantes[0])\n",
        "    print(\"v_rand = \", frecuencias_importantes[1])\n",
        "    print(\"v_min = \", frecuencias_importantes[2])\n",
        "    print(\"----------------------------------\")\n",
        "\n",
        "  return indices_monedas_importantes, frecuencias_importantes\n",
        "ejecutar_experimento()"
      ],
      "execution_count": null,
      "outputs": [
        {
          "output_type": "stream",
          "text": [
            "----------------------------------\n",
            "Experimento ejecutado exitosamente\n",
            "----------------------------------\n",
            "c_rand: Moneda # 882\n",
            "c_min: Moneda # 171\n",
            "----------------------------------\n",
            "v_1 =  0.5\n",
            "v_rand =  0.3\n",
            "v_min =  0.1\n",
            "----------------------------------\n"
          ],
          "name": "stdout"
        },
        {
          "output_type": "execute_result",
          "data": {
            "text/plain": [
              "([1, 882, 171], [0.5, 0.3, 0.1])"
            ]
          },
          "metadata": {
            "tags": []
          },
          "execution_count": 20
        }
      ]
    },
    {
      "cell_type": "markdown",
      "metadata": {
        "id": "NyqZarIJyqJX"
      },
      "source": [
        "*   a) ¿Cuál es el valor de $\\mu$ para las $3$ monedas seleccionadas?\n",
        "\n",
        "**Solución**\n",
        "\n",
        "De acuerdo al experimento descrito, se tiene que $\\mu$ es la probabilidad de que al tirar una moneda caiga cara, y como es una moneda justa se tiene que $\\mu = \\frac{1}{2}$ en cualquier caso."
      ]
    },
    {
      "cell_type": "markdown",
      "metadata": {
        "id": "0CYKY07N-usR"
      },
      "source": [
        "*   b) Repita todo este experimento una gran cantidad de veces (p. Ej. $100.000$ ejecuciones de todo el experimento) para obtener varias instancias de $\\nu_{1},\\nu_{\\text{rand}}$ y $\\nu_{\\min} $ y grafique los histogramas de las distribuciones de $\\nu_{1}, \\nu_{\\text{rand}}$ y $ \\nu_{\\min}$. Identifique que las monedas que terminan siendo $c_{\\text{rand}}$ y $c_{\\text{min}}$ pueden diferir de una ejecución a otra.\n",
        "\n",
        "**Solución**"
      ]
    },
    {
      "cell_type": "code",
      "metadata": {
        "colab": {
          "base_uri": "https://localhost:8080/",
          "height": 297
        },
        "id": "p56nNPkayqnT",
        "outputId": "4670940d-b4b7-419e-c942-0a0feb7d0876"
      },
      "source": [
        "import matplotlib.pyplot as plt\n",
        "\n",
        "total_experimentos = 100\n",
        "\n",
        "def repetir_experimento(k = 100_000):\n",
        "  #Esta función repite el experimento k veces\n",
        "  indices_finales = []\n",
        "  frecuencias_finales = []\n",
        "  \n",
        "  for i in range(k):\n",
        "    indices_monedas_importantes, frecuencias_importantes = ejecutar_experimento(imprimir = False)\n",
        "    indices_finales.append(indices_monedas_importantes)\n",
        "    frecuencias_finales.append(frecuencias_importantes)\n",
        "\n",
        "  return indices_finales, frecuencias_finales\n",
        "\n",
        "def graficar_frecuencias(frecuencias_finales):\n",
        "  #Esta función gafica las frecuencias del número de caras de las 3 monedas importantes\n",
        "\n",
        "  frecuencias_finales = np.array(frecuencias_finales).transpose()\n",
        "\n",
        "  n_bins = 20\n",
        "  fig, axs = plt.subplots(1, 3, sharey=True, tight_layout=True)\n",
        "\n",
        "  # We can set the number of bins with the `bins` kwarg\n",
        "  axs[0].hist(frecuencias_finales[0,:], label = \"$v_0$\", bins=n_bins)\n",
        "  axs[1].hist(frecuencias_finales[1,:], label = \"$v_{rand}$\", bins=n_bins)\n",
        "  axs[2].hist(frecuencias_finales[2,:], label = \"$v_{min}$\", bins=n_bins)\n",
        "\n",
        "  plt.legend()\n",
        "\n",
        "indices_finales, frecuencias_finales = repetir_experimento(k = total_experimentos)\n",
        "graficar_frecuencias(frecuencias_finales)"
      ],
      "execution_count": null,
      "outputs": [
        {
          "output_type": "display_data",
          "data": {
            "image/png": "[encoded data removed]",
            "text/plain": [
              "<Figure size 432x288 with 3 Axes>"
            ]
          },
          "metadata": {
            "tags": [],
            "needs_background": "light"
          }
        }
      ]
    },
    {
      "cell_type": "markdown",
      "metadata": {
        "id": "kyMXnwRrI4bB"
      },
      "source": [
        "Estas son las distribuciones de $v_1, v_{rand}$ y $v_{min}$."
      ]
    },
    {
      "cell_type": "code",
      "metadata": {
        "colab": {
          "base_uri": "https://localhost:8080/",
          "height": 513
        },
        "id": "Adwl6tcZHghR",
        "outputId": "0bc257ca-7a70-4548-e217-5cc8c252e7cd"
      },
      "source": [
        "def graficar_indices(indices_finales):\n",
        "  #Esta función gafica los índices de las 3 monedas importantes \n",
        "  n = len(indices_finales)\n",
        "  indices_finales = np.array(indices_finales).transpose()\n",
        "  fig = plt.figure(figsize =(10, 8))\n",
        "  plt.scatter(range(n), indices_finales[0,:], label = \"$v_0$\")\n",
        "  plt.scatter(range(n), indices_finales[1,:], label = \"$v_{rand}$\")\n",
        "  plt.scatter(range(n), indices_finales[2,:], label = \"$v_{min}$\")\n",
        "  plt.title(\"Índices\")\n",
        "  plt.xlabel(\"No. Repetición\")\n",
        "  plt.ylabel(\"Índice\")\n",
        "  plt.legend()\n",
        "  plt.show()\n",
        "\n",
        "graficar_indices(indices_finales)"
      ],
      "execution_count": null,
      "outputs": [
        {
          "output_type": "display_data",
          "data": {
            "image/png": "[encoded data removed]",
            "text/plain": [
              "<Figure size 720x576 with 1 Axes>"
            ]
          },
          "metadata": {
            "tags": [],
            "needs_background": "light"
          }
        }
      ]
    },
    {
      "cell_type": "markdown",
      "metadata": {
        "id": "5Ahqf9oLJGFW"
      },
      "source": [
        "Acá podemos apreciar que en efecto las monedas que terminan siendo $c_{rand}$ y $c_{min}$ pueden diferir en cada iteración."
      ]
    },
    {
      "cell_type": "markdown",
      "metadata": {
        "id": "pE7YDi6fJhpN"
      },
      "source": [
        "*   c) Usando (b), grafique estimaciones para $\\mathbb{P}[|\\nu-\\mu|>\\epsilon]$ como una función de $\\epsilon$, junto con el límite de Hoeffding $2e^{-2\\epsilon^{2}N}$ (en el mismo gráfico).\n",
        "\n"
      ]
    },
    {
      "cell_type": "code",
      "metadata": {
        "colab": {
          "base_uri": "https://localhost:8080/",
          "height": 265
        },
        "id": "Ii7QUfWVINbz",
        "outputId": "4eca993d-9ec8-431a-8243-d4b9265d086d"
      },
      "source": [
        "def cota_hoeffding(epsilon, total_lanzamientos = 10):\n",
        "  #Esta función calcula la cota de Hoeffding dados epsilon, N\n",
        "  return 2.0*np.exp(-2.0*total_lanzamientos*epsilon**2)\n",
        "\n",
        "def estimar_probabilidades(frecuencias_finales):\n",
        "  #Esta función estima P[|\\nu-\\mu| > epsilon] para c_1, c_rand, c_min\n",
        "  frecuencias_finales = np.array(frecuencias_finales).transpose()\n",
        "\n",
        "  pv_i = []\n",
        "  epsilons = np.linspace(0,1,11)\n",
        "  cotas = [cota_hoeffding(epsilon) for epsilon in epsilons]\n",
        "  for epsilon in epsilons:\n",
        "    pv_1 = np.sum(np.abs(frecuencias_finales[0,:] - 0.5) >  epsilon) / total_experimentos\n",
        "    pv_rand = np.sum(np.abs(frecuencias_finales[1,:] - 0.5) >  epsilon) / total_experimentos\n",
        "    pv_min = np.sum(np.abs(frecuencias_finales[2,:] - 0.5) >  epsilon) / total_experimentos\n",
        "    pv_i.append([pv_1,pv_rand,pv_min])\n",
        "\n",
        "  return np.array(pv_i).transpose(), epsilons, cotas\n",
        "\n",
        "def graficar_probabilidades(probabilidades, epsilons, cotas):\n",
        "  #Esta función grafica las estimaciones de las probabilidades así como la cota de Hoeffding\n",
        "  plt.plot(epsilons, cotas, marker='o', markerfacecolor='purple', markersize=5, color='violet', label='Cota de Hoeffding')\n",
        "  plt.plot(epsilons, probabilidades[0,:], marker='', color='y', linewidth=1, label='$c_1$')\n",
        "  plt.plot(epsilons, probabilidades[1,:], marker='', color='g', linewidth=1, linestyle='dashed', label='$c_{rand}$')\n",
        "  plt.plot(epsilons, probabilidades[2,:], marker='', color='r', linewidth=1, linestyle='dashed', label='$c_{min}$')\n",
        "  plt.legend()\n",
        "\n",
        "\n",
        "probabilidades, epsilons, cotas = estimar_probabilidades(frecuencias_finales)\n",
        "graficar_probabilidades(probabilidades, epsilons, cotas)"
      ],
      "execution_count": null,
      "outputs": [
        {
          "output_type": "display_data",
          "data": {
            "image/png": "[encoded data removed]",
            "text/plain": [
              "<Figure size 432x288 with 1 Axes>"
            ]
          },
          "metadata": {
            "tags": [],
            "needs_background": "light"
          }
        }
      ]
    },
    {
      "cell_type": "markdown",
      "metadata": {
        "id": "eDi2ZliDnWhH"
      },
      "source": [
        "*   d) ¿Cuáles monedas obedecen la cota de Hoeffding y cuál no? Explique por qué.\n",
        "\n",
        "**Solución**\n",
        "\n",
        "Las monedas $c_1$ y $c_{rand}$ obedecen la cota de Hoeffding pues fueron elegidas antes de ejecutar el experimento, no obstante $c_{min}$ no obedece la cota pues para calcular cuál moneda es $c_{min}$ hay que llevar a cabo el expermiento.\n",
        "\n"
      ]
    },
    {
      "cell_type": "markdown",
      "metadata": {
        "id": "1BySXIz45kUG"
      },
      "source": [
        "*   e) Relacione la parte (d) a los múltiples recipientes en la figura 1.10.\n",
        "\n",
        "**Solución**\n",
        "\n",
        "Dada una realización del experimento, podemos asociar a cada una de las $1000$ monedas un recipiente vacío. Al tirar una moneda en específico, tomaremos una bola y la pintaremos de verde si el resultado fue cara o rojo en otro caso, entonces la proporción de bolas verdes en el recipiente $i$-ésimo está dada por $\\nu_i = \\mathbb{E}_{in}(h_i)$ y $\\mu = \\mathbb{E}_{out}(h_i) = \\frac{1}{2} $ para todos los casos. Note que para el recipiente asociado a $c_1$ y $c_{rand}$ no es necesario elegir $D$ de antemano, es decir que cumplen con las hipótesis de la desigualdad de Hoeffding como mostró el numeral d), sin embargo, para encontrar el recipiente asociado a $c_{min}$ es necesario primero generar el conjunto de datos $D$ lo cual hace que la desigualdad de Hoeffding no se cumpla.\n",
        "\n",
        "\n"
      ]
    },
    {
      "cell_type": "markdown",
      "metadata": {
        "id": "ytEQM8hgFRLE"
      },
      "source": [
        "## Ejercicio 1.11\n",
        "\n",
        "Se nos da un conjunto de datos $\\mathcal{D}$ de $25$ ejemplos de entrenamiento de una función objetivo desconocida $f:\\mathcal{X}\\rightarrow\\mathcal{Y}$, donde $\\mathcal{X} = \\mathbb{R}$ y $\\mathcal{Y} = \\{- 1, + 1 \\} $. Para aprender $f$, usamos un conjunto de hipótesis simple $\\mathcal{H} = \\left \\{h_{1}, h_{2} \\right \\}$ donde $h_{1}$ es la función constante $+1$ y $h_{2} $ es la función constante $-1$.\n",
        "\n",
        "Consideramos dos algoritmos de aprendizaje, $S$ (inteligente) y $C$ (loco). $S$ elige la hipótesis que más concuerda con $\\mathcal{D}$ y $C$ elige la otra hipótesis deliberadamente. Veamos cómo funcionan estos algoritmos fuera de la muestra desde los puntos de vista determinista y probabilístico. Suponga en la vista probabilística que hay una distribución de probabilidad en $\\mathcal{X}$, y sea $\\mathbb{P}[f(\\mathbf{x}) = +1] = p$.\n",
        "\n",
        "\n",
        "*   a) ¿Puede $S$ producir una hipótesis que se puede garantizar que se va a comportar mejor que la aleatoria en cualquier punto fuera de $D$?\n",
        "\n",
        "**Solución**\n",
        "\n",
        "Suponga que la función objetivo $f$ no es nada más que $f(x) = sign(x)$ y suponga que $\\mathbb{P}[f(\\mathbf{x}) = +1] = p = \\frac{1}{2}$ Note entonces que así $S$ produzca la hipótesis que mejor se ajuste a $D$ se tiene que no se puede garantizar que dicha hipótesis se comporte mejor que la otra pues ambas se comportan igual.\n",
        "\n",
        "*   b) Asuma para el resto del ejercicio que todas las muestras en $\\mathcal{D}$ están clasificadas como $+1$. ¿Es posible que la hipótesis que $C$ produzca resulte ser mejor que la que $S$ produzca?\n",
        "\n",
        "**Solución**\n",
        "\n",
        "Suponga que $f(x)=-1$ para todo $x$ que no está en $\\mathcal{D}$. Es claro que $C$ produce una mejor hipótesis que $S$.\n",
        "\n",
        "*   c) Si $p=0.9$ ¿Cuál es la probabilidad de que $S$ producirá una mejor hipótesis que $C$?\n",
        "\n",
        "**Solución**\n",
        "\n",
        "Como $S$ escoge $h_1$ porque todos los datos en $\\mathcal{D}$ están etiquetados como $+1$ y además se tiene que $\\mathbb{P}[f(\\mathbf{x}) = +1] = p = 0.9$ entonces hay una probabilidad de $0.9$ de que la hipótesis que produce $S$, a saber $h_1$, es mejor que la que produce $C$.\n",
        "\n",
        "*   d) ¿Existe algún valor de $p$ para el cual es más probable que no que $C$ produzca una mejor hipótesis que $S$?\n",
        "\n",
        "**Solución**\n",
        "\n",
        "Cualquier valor $0 < p < \\frac{1}{2}$ hará que sea más probable que no que $C$ produzca una mejor hipótesis pues $S$ escogerá $h_1$."
      ]
    },
    {
      "cell_type": "markdown",
      "metadata": {
        "id": "ywo3dD7BNH3Q"
      },
      "source": [
        "## Ejercicio de simular XOR\n",
        "\n",
        "Simule XOR con el modelo de neurona de Mcculloch-Pitts.\n",
        "\n",
        "**Solución**\n",
        "\n",
        "Como ya se demostró que XOR no es liniealmente separable no se puede utilizar una sola neurona por lo cual utilizaremos varias, el modelo queda como sigue:"
      ]
    },
    {
      "cell_type": "markdown",
      "metadata": {
        "id": "fqRBqk1fVgJq"
      },
      "source": [
        "![xor neuron.png](data:image/png;base64,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)"
      ]
    },
    {
      "cell_type": "markdown",
      "metadata": {
        "id": "5rv78phTVlIR"
      },
      "source": [
        "No es difícil ver que este modelo da como resultado $0$ cuando los inputs son iguales, es decir $(1,1)$ y $(0,0)$ y $1$ en otro caso, es decir que simular XOR."
      ]
    }
  ]
}