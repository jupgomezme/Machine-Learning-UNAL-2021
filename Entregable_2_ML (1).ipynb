{
  "nbformat": 4,
  "nbformat_minor": 0,
  "metadata": {
    "colab": {
      "name": "Entregable 2 ML.ipynb",
      "provenance": [],
      "collapsed_sections": []
    },
    "kernelspec": {
      "name": "python3",
      "display_name": "Python 3"
    },
    "language_info": {
      "name": "python"
    }
  },
  "cells": [
    {
      "cell_type": "markdown",
      "metadata": {
        "id": "fan3s8_8W1wD"
      },
      "source": [
        "#Segunda ronda de ejercicios"
      ]
    },
    {
      "cell_type": "code",
      "metadata": {
        "id": "haaJIUykDNLQ"
      },
      "source": [
        "#Librerías a utilizar \n",
        "import numpy as np\n",
        "import pandas as pd\n",
        "import matplotlib.pyplot as plt\n",
        "from IPython import display\n",
        "from datetime import datetime"
      ],
      "execution_count": 1,
      "outputs": []
    },
    {
      "cell_type": "markdown",
      "metadata": {
        "id": "Qp9OMncuW6kg"
      },
      "source": [
        "## Ejercicio 1.12\n",
        "\n",
        "Una amiga te busca con un problema de aprendizaje. Ella dice que la función objetivo $f$ es completamente desconocida, pero ella tiene $4000$ datos. Ella está dispuesta a pagarte por resolver su problema y producir para ella una función $g$ que aproxime $f$. ¿Qué es lo mejor que puedes prometerle entre las siguientes?\n",
        "\n",
        "\n",
        "\n",
        "1.   Después del aprendizaje le darás una función $g$ que garantizas que aproxima $f$ bien fuera de la muestra.\n",
        "2.   Después del aprendizaje le darás una función $g$ y con una alta probabilidad la función $g$ que le diste aproximará $f$ bien fuera de la muestra.\n",
        "3.   Una de dos cosas pasarán.\n",
        "      1.   Le darás una hipótesis $g$.\n",
        "      2.   Le dirás que fallaste.\n",
        "      \n",
        "    Si le das una hipótesis $g$, entonces con una alta probabilidad la función $g$ que le diste aproximará $f$ bien fuera de la muestra.\n",
        "\n",
        "\n",
        "**Solución**\n",
        "\n",
        "La respuesta correcta es la 3. Si la función objetivo $f$ que trae nuestra amiga es compleja (más de lo esperado), será difícil para nuestros algoritmos de aprendizaje encontrar un valor adecuado para $E_{in}(g)$ lo cual en el peor de los casos podría llevarnos a no poder aprender $f$ pero en todo caso se lo podríamos hacer saber. Si logramos obtener una buena función $g$ que aproxime a $f$ entonces con el argumento de la desigualdad de Hoeffding podríamos decirle que con una alta probabilidad la función $g$ aproxima a $f$."
      ]
    },
    {
      "cell_type": "markdown",
      "metadata": {
        "id": "JVdyD3CDguA8"
      },
      "source": [
        "##Problema 1.2\n",
        "\n",
        "Considere el perceptrón en dos dimensiones: $h(\\mathbf{x})=$ $\\operatorname{sign}\\left(\\mathbf{w}^{\\mathrm{T}} \\mathbf{x}\\right)$ donde $\\mathbf{w}=\\left[w_{0}, w_{1}, w_{2}\\right]^{\\mathrm{T}}$ and $\\mathbf{x}=\\left[1, x_{1}, x_{2}\\right]^{\\mathrm{T}}$. Técnicamente, $\\mathbf{x}$ tiene 3 coordenadas, pero nosotros llamamos esto perceptrón de dos dimensiones porque la primera coordenada está fijada en 1.\n",
        "1.   Muestre que las regiones en el plano donde $h(\\mathbf{x})=+1$ y $h(\\mathbf{x})=-1$ están separadas por una línea. Si nosotros expresamos esta línea con la ecuación $x_{2}=a x_{1}+b$, ¿Cuál es la pendiente $a$ y el intercepto $b$ in términos de $w_{0}, w_{1}, w_{2} ?$\n",
        "\n",
        "**Solución**\n",
        "\n",
        "Note que\n",
        "\n",
        "$$\n",
        "\\begin{aligned}\n",
        "h(\\mathbf{x})&=\\operatorname{sign}\\left(\\mathbf{w}^{\\mathrm{T}} \\mathbf{x}\\right) \\\\\n",
        "&= \\operatorname{sign}(w_0+w_1x_1+w_2x_2)\n",
        "\\end{aligned}\n",
        "$$\n",
        "\n",
        "Notamos que los puntos para los cuales $w_0+w_1x_1+w_2x_2=0$ corresponden a una línea en $\\mathbb{R}^2$, además, $h(x)=1$ implica que $w_0+w_1x_1+w_2x_2>0$ o lo que es lo mismo, que el punto $x$ está por encima de dicha línea y de manera análoga $h(x)=-1$ implica que el punto $x$ está por debajo de la línea.\n",
        "\n",
        "$$\n",
        "\\begin{aligned}\n",
        "w_0+w_1x_1+w_2x_2 &= 0 \\\\\n",
        "w_2x_2 &= -w_1x_1 - w_0 \\\\\n",
        "x_2 &= -\\frac{w_1}{w_2}x_1-\\frac{w_0}{w_2}\n",
        "\\end{aligned}\n",
        "$$\n",
        "\n",
        "Por lo cual la pendiente está dada por $a=-\\frac{w_1}{w_2}$ y el intercepto por $b=-\\frac{w_0}{w_2}$\n",
        "\n",
        "2.   Haga un dibujo para los casos $\\mathbf{w}=[1,2,3]^{\\mathrm{T}}$ y $\\mathbf{w}=-[1,2,3]^{\\mathrm{T}}$.\n",
        "\n",
        "En más de dos dimensiones, las regiones $+1$ y $-1$ están separadas por un hiperplano, la generalización de una línea.\n",
        "\n",
        "**Solución**\n",
        "\n",
        "Para $w_1=[1,2,3]^{\\mathrm{T}}$ tenemos la recta $x_2 = -\\frac{2}{3}x_1-\\frac{1}{3}$ graficada continación:"
      ]
    },
    {
      "cell_type": "code",
      "metadata": {
        "colab": {
          "base_uri": "https://localhost:8080/",
          "height": 523
        },
        "id": "zTIi0cvmJkZF",
        "outputId": "168e22d5-950d-4773-de2d-0408e85adda0"
      },
      "source": [
        "iFrame = '<iframe src=\"https://www.desmos.com/calculator/5mdomefww3?embed\" width=\"500\" height=\"500\" style=\"border: 1px solid #ccc\" frameborder=0></iframe>'\n",
        "display.HTML(iFrame)"
      ],
      "execution_count": 2,
      "outputs": [
        {
          "output_type": "execute_result",
          "data": {
            "text/html": [
              "<iframe src=\"https://www.desmos.com/calculator/5mdomefww3?embed\" width=\"500\" height=\"500\" style=\"border: 1px solid #ccc\" frameborder=0></iframe>"
            ],
            "text/plain": [
              "<IPython.core.display.HTML object>"
            ]
          },
          "metadata": {
            "tags": []
          },
          "execution_count": 2
        }
      ]
    },
    {
      "cell_type": "markdown",
      "metadata": {
        "id": "M-9Fu3C2LLaV"
      },
      "source": [
        "Y para $w_2=-[1,2,3]^{\\mathrm{T}}$ tenemos la recta $x_2 = \\frac{2}{3}x_1+\\frac{1}{3}$ graficada a continuación:"
      ]
    },
    {
      "cell_type": "code",
      "metadata": {
        "colab": {
          "base_uri": "https://localhost:8080/",
          "height": 523
        },
        "id": "pSNdeKpMKBRv",
        "outputId": "6f53f7a2-da41-4dc7-d222-fcb8f27a0ada"
      },
      "source": [
        "iFrame = '<iframe src=\"https://www.desmos.com/calculator/lcwde0xz3b?embed\" width=\"500\" height=\"500\" style=\"border: 1px solid #ccc\" frameborder=0></iframe>'\n",
        "display.HTML(iFrame)"
      ],
      "execution_count": 3,
      "outputs": [
        {
          "output_type": "execute_result",
          "data": {
            "text/html": [
              "<iframe src=\"https://www.desmos.com/calculator/lcwde0xz3b?embed\" width=\"500\" height=\"500\" style=\"border: 1px solid #ccc\" frameborder=0></iframe>"
            ],
            "text/plain": [
              "<IPython.core.display.HTML object>"
            ]
          },
          "metadata": {
            "tags": []
          },
          "execution_count": 3
        }
      ]
    },
    {
      "cell_type": "markdown",
      "metadata": {
        "id": "Lr49Odv2Lb0M"
      },
      "source": [
        "## Problema 1.4\n",
        "\n",
        "En el ejercicio $1.4$, utilizamos un conjunto de datos artificial para estudiar el algoritmo de aprendizaje del perceptrón. Este problema te lleva a explorar el algoritmo más allá con conjuntos de datos de diferentes tamaños y dimensiones.\n",
        "1.   Genere un conjunto de datos linealmente separable de tamaño 20 como se indica en el ejercicio $1.4$. Grafique las muestras $\\left\\{\\left(\\mathbf{x}_{n}, y_{n}\\right)\\right\\}$ así como su función objetivo $f$ en un plano. Asegúrese de marcar las muestras de diferentes clases de manera diferente y de añadir etiquetas a los ejes del gráfico.\n",
        "\n",
        "**Solución**"
      ]
    },
    {
      "cell_type": "code",
      "metadata": {
        "colab": {
          "base_uri": "https://localhost:8080/",
          "height": 350
        },
        "id": "-31B1zfnK74j",
        "outputId": "2c679072-6187-4892-f10a-874c0ff10acd"
      },
      "source": [
        "def generate_data(n_samples, n_features):\n",
        "  class_a = list()\n",
        "  class_b = list()\n",
        "  for i in range(int(n_samples/2)):\n",
        "    sample_a = [np.random.randint(0,61) for i in range(n_features)]\n",
        "    class_a.append(sample_a)\n",
        "    sample_b = [np.random.randint(70,131) for i in range(n_features)]\n",
        "    class_b.append(sample_b)\n",
        "\n",
        "  class_a = np.array(class_a)\n",
        "  class_b = np.array(class_b)\n",
        "  D = np.concatenate((class_a,class_b))\n",
        "  D = np.append(np.ones((D.shape[0],1)), D, axis=1)\n",
        "  y_class_a = np.transpose(np.ones(np.shape(class_a)[0]))\n",
        "  y_class_b = -np.transpose(np.ones(np.shape(class_b)[0]))\n",
        "  y = np.concatenate((y_class_a, y_class_b))\n",
        "\n",
        "  return D, y, class_a, class_b\n",
        "\n",
        "D, y, class_a, class_b = generate_data(20,2)\n",
        "\n",
        "fig = plt.figure(figsize = (10, 5)) \n",
        "\n",
        "plt.plot(class_a[:,0],class_a[:,1], \"+\", color = \"red\", ms = 15, label=\"Clase 1\")\n",
        "plt.plot(class_b[:,0],class_b[:,1], \"_\", color = \"blue\", ms = 15, label=\"Clase 2\")\n",
        "\n",
        "x1, y1 = [0, 130], [130, 0]\n",
        "plt.plot(x1, y1, color=\"green\")\n",
        "\n",
        "plt.title('Conjunton de datos linealmente separable')\n",
        "plt.grid(alpha =.6, linestyle ='--')\n",
        "plt.xlabel('Eje x') \n",
        "plt.ylabel('Eje y')\n",
        "plt.legend()\n",
        "plt.show()"
      ],
      "execution_count": 4,
      "outputs": [
        {
          "output_type": "display_data",
          "data": {
            "image/png": "[encoded data removed]",
            "text/plain": [
              "<Figure size 720x360 with 1 Axes>"
            ]
          },
          "metadata": {
            "tags": [],
            "needs_background": "light"
          }
        }
      ]
    },
    {
      "cell_type": "markdown",
      "metadata": {
        "id": "iRZbEu7KNXvD"
      },
      "source": [
        "2.   Corra el algoritmo de aprendizaje del perceptrón en el conjunto de datos del punto anterior. Reporte el número de actualizaciones que le tomó al algoritmo converjer. Grafique las muestras $\\left\\{\\left(\\mathbf{x}_{n}, y_{n}\\right)\\right\\}$, la función objetivo $f$ y la hipótesis final $g$ en la misma figura. Comente si $f$ está cercana a $g$.\n"
      ]
    },
    {
      "cell_type": "code",
      "metadata": {
        "id": "5yZkoh0ANYzQ"
      },
      "source": [
        "def initialize_wieghts(d):\n",
        "  return np.zeros(d)\n",
        "def update_weights(current_weights, current_x, current_y):\n",
        "  return current_weights + current_x * current_y\n",
        "def classify_data(current_weights, D):\n",
        "  data_classified = list()\n",
        "  for row in D:\n",
        "    if np.dot(row, current_weights) > 0:\n",
        "      data_classified.append(1)\n",
        "    else:\n",
        "      data_classified.append(-1)\n",
        "  return np.array(data_classified)\n",
        "def get_misclassified_sample(D, classified_data, y):\n",
        "  for i in range(len(classified_data)):\n",
        "    y_predicted = classified_data[i]\n",
        "    y_true = y[i]\n",
        "    if y_predicted != y_true:\n",
        "      return D[i], y[i]\n",
        "\n",
        "def get_misclassified_sample_randomly(D, classified_data, y):\n",
        "  misclassified_indices = list()\n",
        "  for i in range(len(classified_data)):\n",
        "    y_predicted = classified_data[i]\n",
        "    y_true = y[i]\n",
        "    if y_predicted != y_true:\n",
        "      misclassified_indices.append(i)\n",
        "\n",
        "  final_index = np.random.choice(misclassified_indices)\n",
        "  return D[final_index], y[final_index]"
      ],
      "execution_count": 5,
      "outputs": []
    },
    {
      "cell_type": "code",
      "metadata": {
        "id": "Hy8cvE_1aLBV",
        "colab": {
          "base_uri": "https://localhost:8080/"
        },
        "outputId": "1cfc3517-82bc-4bc5-93c4-6985f055de6f"
      },
      "source": [
        "def execute_perceptron(D,y, random = False):\n",
        "  N,d = np.shape(D)\n",
        "  current_weights = initialize_wieghts(d)\n",
        "\n",
        "  start_time = datetime.now()\n",
        "  iterations = 1\n",
        "  \n",
        "  while True:\n",
        "    print(\"Iteration #\", iterations)\n",
        "    display.clear_output(wait=True)\n",
        "\n",
        "    classified_data = classify_data(current_weights, D)\n",
        "    try:\n",
        "      if random:\n",
        "        current_x, current_y = get_misclassified_sample_randomly(D, classified_data, y)\n",
        "      else:\n",
        "        current_x, current_y = get_misclassified_sample(D, classified_data, y)\n",
        "      current_weights = update_weights(current_weights, current_x, current_y)\n",
        "    except:\n",
        "      final_weights = current_weights\n",
        "      break\n",
        "    \n",
        "    iterations += 1\n",
        "  end_time = datetime.now()\n",
        "  total_seconds = (end_time - start_time).total_seconds()\n",
        "\n",
        "  return iterations, total_seconds, final_weights\n",
        "\n",
        "iterations_e1, total_seconds_e1, final_weights_e1 = execute_perceptron(D,y)\n",
        "\n",
        "print(\"Algoritmo terminado exitosamente\")\n",
        "print(\"Número de iteraciones totales:\", iterations_e1)\n",
        "print(\"Tiempo total en segundos:\", total_seconds_e1)\n",
        "print(\"Vector de pesos final:\", final_weights_e1)"
      ],
      "execution_count": 6,
      "outputs": [
        {
          "output_type": "stream",
          "text": [
            "Algoritmo terminado exitosamente\n",
            "Número de iteraciones totales: 3045\n",
            "Tiempo total en segundos: 15.045958\n",
            "Vector de pesos final: [1570.    2.  -28.]\n"
          ],
          "name": "stdout"
        }
      ]
    },
    {
      "cell_type": "code",
      "metadata": {
        "colab": {
          "base_uri": "https://localhost:8080/",
          "height": 350
        },
        "id": "kj5mEEqkUBXq",
        "outputId": "36376828-c35b-4794-fef6-2d003aebf002"
      },
      "source": [
        "fig = plt.figure(figsize = (10, 5)) \n",
        "\n",
        "plt.plot(class_a[:,0],class_a[:,1], \"+\", color = \"red\", ms = 5, label=\"Clase 1\")\n",
        "plt.plot(class_b[:,0],class_b[:,1], \"_\", color = \"blue\", ms = 5, label=\"Clase 2\")\n",
        "\n",
        "x1, y1 = [0, 130], [130, 0]\n",
        "plt.plot(x1, y1, color=\"green\", label = 'Función $f$')\n",
        "\n",
        "def get_x2(x1, w):\n",
        "  return (- x1 * w[1] - w[0]) / w[2]\n",
        "\n",
        "x2,y2 = [0, 130], [get_x2(0, final_weights_e1), get_x2(130, final_weights_e1)]\n",
        "plt.plot(x2, y2, color=\"orange\", label = 'Función $g$')\n",
        "\n",
        "plt.title('Conjunton de datos linealmente separable')\n",
        "plt.grid(alpha =.6, linestyle ='--')\n",
        "plt.xlabel('Eje x') \n",
        "plt.ylabel('Eje y')\n",
        "plt.legend()\n",
        "plt.show()"
      ],
      "execution_count": 7,
      "outputs": [
        {
          "output_type": "display_data",
          "data": {
            "image/png": "[encoded data removed]",
            "text/plain": [
              "<Figure size 720x360 with 1 Axes>"
            ]
          },
          "metadata": {
            "tags": [],
            "needs_background": "light"
          }
        }
      ]
    },
    {
      "cell_type": "markdown",
      "metadata": {
        "id": "R_xgKJC2bIDm"
      },
      "source": [
        "Podemos notar que $g$ aproxima bien a $f$ y aunque no es igual, clasifica todos los puntos de manera correcta."
      ]
    },
    {
      "cell_type": "markdown",
      "metadata": {
        "id": "TEe7uP967u-f"
      },
      "source": [
        "3.   Repita todo en **2.** con otro conjunto de datos generado aleatoriamente de tamaño $20$. Compare sus resultados con **2**. "
      ]
    },
    {
      "cell_type": "code",
      "metadata": {
        "colab": {
          "base_uri": "https://localhost:8080/"
        },
        "id": "M76smL7B8cny",
        "outputId": "92287568-ca39-4a6e-8534-9ab0b107bfb2"
      },
      "source": [
        "D, y, class_a, class_b = generate_data(20, 2)\n",
        "\n",
        "iterations_e2, total_seconds_e2, final_weights_e2 = execute_perceptron(D,y)\n",
        "\n",
        "print(\"Algoritmo terminado exitosamente\")\n",
        "print(\"Número de iteraciones totales en este experimento:\", iterations_e2)\n",
        "print(\"Número de iteraciones totales en el primer experimento:\", iterations_e1)\n",
        "print(\"Tiempo total en segundos de este experimento:\", total_seconds_e2)\n",
        "print(\"Tiempo total en segundos en el primer experimento:\", total_seconds_e1)\n",
        "print(\"Vector de pesos final:\", final_weights_e2)"
      ],
      "execution_count": 8,
      "outputs": [
        {
          "output_type": "stream",
          "text": [
            "Algoritmo terminado exitosamente\n",
            "Número de iteraciones totales en este experimento: 3895\n",
            "Número de iteraciones totales en el primer experimento: 3045\n",
            "Tiempo total en segundos de este experimento: 19.097228\n",
            "Tiempo total en segundos en el primer experimento: 15.045958\n",
            "Vector de pesos final: [1640.  -26.  -10.]\n"
          ],
          "name": "stdout"
        }
      ]
    },
    {
      "cell_type": "markdown",
      "metadata": {
        "id": "EwdlrTQz81JV"
      },
      "source": [
        "4.   Repita todo en **2.** con otro conjunto de datos generado aleatoriamente de tamaño $100$. Compare sus resultados con **2**."
      ]
    },
    {
      "cell_type": "code",
      "metadata": {
        "colab": {
          "base_uri": "https://localhost:8080/"
        },
        "id": "z3b9lRqH9Bos",
        "outputId": "d7b11478-3667-4dba-c3a8-0a4608b60d17"
      },
      "source": [
        "D, y, class_a, class_b = generate_data(100, 2)\n",
        "\n",
        "iterations_e3, total_seconds_e3, final_weights_e3 = execute_perceptron(D,y)\n",
        "\n",
        "print(\"Algoritmo terminado exitosamente\")\n",
        "print(\"Número de iteraciones totales en este experimento:\", iterations_e3)\n",
        "print(\"Número de iteraciones totales en el primer experimento:\", iterations_e1)\n",
        "print(\"Tiempo total en segundos de este experimento:\", total_seconds_e3)\n",
        "print(\"Tiempo total en segundos en el primer experimento:\", total_seconds_e1)\n",
        "print(\"Vector de pesos final:\", final_weights_e3)"
      ],
      "execution_count": 9,
      "outputs": [
        {
          "output_type": "stream",
          "text": [
            "Algoritmo terminado exitosamente\n",
            "Número de iteraciones totales en este experimento: 4346\n",
            "Número de iteraciones totales en el primer experimento: 3045\n",
            "Tiempo total en segundos de este experimento: 23.638456\n",
            "Tiempo total en segundos en el primer experimento: 15.045958\n",
            "Vector de pesos final: [ 1.869e+03 -2.900e+01  1.000e+00]\n"
          ],
          "name": "stdout"
        }
      ]
    },
    {
      "cell_type": "markdown",
      "metadata": {
        "id": "zn_bJJmPBxee"
      },
      "source": [
        "5.   Repita todo en **2.** con otro conjunto de datos generado aleatoriamente de tamaño $1000$. Compare sus resultados con **2**."
      ]
    },
    {
      "cell_type": "code",
      "metadata": {
        "colab": {
          "base_uri": "https://localhost:8080/"
        },
        "id": "noFm4IGOB0dI",
        "outputId": "59e39b2e-f46b-4d41-ed50-69f42b08e69e"
      },
      "source": [
        "D, y, class_a, class_b = generate_data(1000, 2)\n",
        "\n",
        "iterations_e4, total_seconds_e4, final_weights_e4 = execute_perceptron(D,y)\n",
        "\n",
        "print(\"Algoritmo terminado exitosamente\")\n",
        "print(\"Número de iteraciones totales en este experimento:\", iterations_e4)\n",
        "print(\"Número de iteraciones totales en el primer experimento:\", iterations_e1)\n",
        "print(\"Tiempo total en segundos de este experimento:\", total_seconds_e4)\n",
        "print(\"Tiempo total en segundos en el primer experimento:\", total_seconds_e1)\n",
        "print(\"Vector de pesos final:\", final_weights_e4)"
      ],
      "execution_count": 10,
      "outputs": [
        {
          "output_type": "stream",
          "text": [
            "Algoritmo terminado exitosamente\n",
            "Número de iteraciones totales en este experimento: 371\n",
            "Número de iteraciones totales en el primer experimento: 3045\n",
            "Tiempo total en segundos de este experimento: 4.639218\n",
            "Tiempo total en segundos en el primer experimento: 15.045958\n",
            "Vector de pesos final: [194.  -2.  -1.]\n"
          ],
          "name": "stdout"
        }
      ]
    },
    {
      "cell_type": "markdown",
      "metadata": {
        "id": "U7tjmW4tXQVw"
      },
      "source": [
        "5.   Modifique el algoritmo tal que toma $\\mathbf{x}_{n} \\in \\mathbb{R}^{10}$ en vez de $\\mathbb{R}^{2}$. De manera aleatoria genere un conjunto de datos linealmente separable de tamaño 1,000 con $\\mathbf{x}_{n} \\in \\mathbb{R}^{10}$ y corra el algoritmo con estos datos. ¿Cuántas iteraciones le toma al algoritmo converjer?"
      ]
    },
    {
      "cell_type": "code",
      "metadata": {
        "colab": {
          "base_uri": "https://localhost:8080/"
        },
        "id": "LNwI_8RZCjkJ",
        "outputId": "826f241b-fe0c-4133-f359-3499fffe7f93"
      },
      "source": [
        "D, y, class_a, class_b = generate_data(1000, 10)\n",
        "\n",
        "iterations_e5, total_seconds_e5, final_weights_e5 = execute_perceptron(D,y)\n",
        "\n",
        "print(\"Algoritmo terminado exitosamente\")\n",
        "print(\"Tiempo total en segundos de este experimento:\", total_seconds_e5)\n",
        "print(\"Número de iteraciones totales en este experimento:\", iterations_e5)"
      ],
      "execution_count": 11,
      "outputs": [
        {
          "output_type": "stream",
          "text": [
            "Algoritmo terminado exitosamente\n",
            "Tiempo total en segundos de este experimento: 718.346774\n",
            "Número de iteraciones totales en este experimento: 50479\n"
          ],
          "name": "stdout"
        }
      ]
    },
    {
      "cell_type": "markdown",
      "metadata": {
        "id": "9GX3lokQChTQ"
      },
      "source": [
        "6.   Repita el algoritmo en el mismo conjunto de datos que en **5.** para $100$ experimentos.  En las iteraciones de cada experimento, elija $\\mathbf{x}(t)$ de manera aleatoria en vez de determinística. Grafique un histograma para el número de actualizaciones que le toma al algoritmo converjer. "
      ]
    },
    {
      "cell_type": "code",
      "metadata": {
        "colab": {
          "base_uri": "https://localhost:8080/",
          "height": 265
        },
        "id": "A2ZpWneVDwSs",
        "outputId": "a93e29a1-e008-43f5-b7b6-befc30652632"
      },
      "source": [
        "D, y, class_a, class_b = generate_data(20, 3)\n",
        "\n",
        "iterations_history = list()\n",
        "\n",
        "experiment = 1\n",
        "for i in range(100):\n",
        "  iterations_e6, total_seconds_e6, final_weights_e6 = execute_perceptron(D,y,True)\n",
        "  iterations_history.append(iterations_e6)\n",
        "  experiment += 1\n",
        "\n",
        "plt.hist(iterations_history)\n",
        "plt.show()"
      ],
      "execution_count": 12,
      "outputs": [
        {
          "output_type": "display_data",
          "data": {
            "image/png": "[encoded data removed]",
            "text/plain": [
              "<Figure size 432x288 with 1 Axes>"
            ]
          },
          "metadata": {
            "tags": [],
            "needs_background": "light"
          }
        }
      ]
    },
    {
      "cell_type": "markdown",
      "metadata": {
        "id": "ONm9SuZbDfx4"
      },
      "source": [
        "7.   Resuma sus conclusiones con respecto a la precisión y tiempo de cómputo como funciones de $N$ y $d$.\n",
        "\n",
        "Por razones de capacidad computacional el experimento se ejecutó con un conjunto de datos de tamaño $20 \\times 3$. Vemos que mientras $N$ o $d$ aumentan, toma más tiempo encontrar una solución."
      ]
    },
    {
      "cell_type": "markdown",
      "metadata": {
        "id": "NB--ERv1Hed9"
      },
      "source": [
        "## Problema 1.6\n",
        "\n",
        "Considere una muestra de $10$ canicas sacadas de manera independiente de un recipiente que tiene canicas rojas y verdes. La probabilidad de sacar una canica roja es $\\mu$. Para $\\mu = 0.05$ $\\mu = 0.5$ y $\\mu=0.8$ calcule la probabilidad de no obtener canicas rojas ($\\nu=0$) en los siguientes casos:\n",
        "\n",
        "1.   Sacamos una sola muestra. Calcule la probabilidad de que $\\nu=0$.\n",
        "\n",
        "**Solución.**\n",
        "\n",
        "$$\n",
        "\\begin{aligned}\n",
        "P(\\nu = 0) &= (1-\\mu)^{10} \\quad &\\text{En general} \\\\\n",
        "P(\\nu = 0) &=  0.5987369392383787 \\quad &\\text{Para } \\mu=0.05 \\\\\n",
        "P(\\nu = 0) &=  0.0009765625 \\quad &\\text{Para } \\mu=0.5 \\\\\n",
        "P(\\nu = 0) &=  0.00000010239 \\quad &\\text{Para } \\mu=0.8 \\\\\n",
        "\\end{aligned}\n",
        "$$\n",
        "\n",
        "2.   Sacamos $1000$ muestras independientes. Calcule la probabilidad de que al menos una de las muestras tiene $\\nu=0$.\n",
        "\n",
        "**Solución**\n",
        "\n",
        "Calculemos la probabilidad del evento complementario, es decir la probabilidad de que todas las muestras tengan $\\nu>0$. La probabilidad de que una de las muestras tenga $\\nu>0$ es de acuerdo al punto anterior $1-(1-\\mu)^{10}$ por lo cual la probabilidad que todas las muestras tengan $\\nu>0$ es $(1-(1-\\mu)^{10})^{1000}$ y así la probabilidad buscada es $1-(1-(1-\\mu)^{10})^{1000}$\n",
        "\n",
        "\n",
        "$$\n",
        "\\begin{aligned}\n",
        "P(\\text{Al menos una de las muestras tiene } \\nu = 0) &= 1-(1-(1-\\mu)^{10})^{1000} \\quad &\\text{En general} \\\\\n",
        "P('') &=  1 \\quad &\\text{Para } \\mu=0.05 \\\\\n",
        "P('') &=  0.623576201943276 \\quad &\\text{Para } \\mu=0.5 \\\\\n",
        "P('') &=  0.00010239476257623004   \\quad &\\text{Para } \\mu=0.8 \\\\\n",
        "\\end{aligned}\n",
        "$$\n",
        "\n",
        "3.   Repetir **2.** para $1,000,000$ muestras independientes\n",
        "\n",
        "**Solución**\n",
        "\n",
        "Bajo el razonamiento del punto anterior:\n",
        "\n",
        "$$\n",
        "\\begin{aligned}\n",
        "P &= 1-(1-(1-\\mu)^{10})^{1000000} \\quad &\\text{En general} \\\\\n",
        "P &=  1 \\quad &\\text{Para } \\mu=0.05 \\\\\n",
        "P &=  1 \\quad &\\text{Para } \\mu=0.5 \\\\\n",
        "P &=  0.09733159268316072   \\quad &\\text{Para } \\mu=0.8 \\\\\n",
        "\\end{aligned}\n",
        "$$"
      ]
    },
    {
      "cell_type": "markdown",
      "metadata": {
        "id": "OnggiHfUTB91"
      },
      "source": [
        "## Problema 1.12 \n",
        "\n",
        "Este problema investiga cómo cambiar la medida del error puede cambiar el resultado del proceso de aprendizaje. Tiene $ N $ puntos de datos $ y_{1} \\leq $ $ \\cdots \\leq y_{N} $ y desea estimar un valor 'representativo'.\n",
        "1.   Si su algoritmo se trata de encontrar la hipótesis $ h $ que minimiza la suma de las desviaciones cuadradas \"in-sample\",\n",
        "$$\n",
        "E_{\\mathrm{in}}(h) = \\sum_{n = 1} ^ {N} \\left(h-y_{n} \\right) ^ {2}\n",
        "$$\n",
        "entonces muestre que su estimación será la media \"in-sample\",\n",
        "$$\n",
        "h_{\\text {mean}} = \\frac {1} {N} \\sum_{n = 1} ^ {N} y_{n}\n",
        "$$\n",
        "\n",
        "**Solución**\n",
        "\n",
        "Como el algoritmo se trata de encontrar la hipótesis $h$ que minimiza $E_{\\mathrm{in}}(h)$, tomemos la derivada con respecto a $h$ e igualemos a $0$:\n",
        "\n",
        "$$\\begin{align*} \\frac{\\partial{E_{in}(h)}}{\\partial{h}} &= \\sum_{n=1}^{N}2(h-y_n) \\\\ h_{mean} &= \\frac{1}{N} \\sum_{n=1}^{N}y_n\\\\ \\end{align*}$$\n",
        "\n",
        "\n",
        "2.   Si su algoritmo se trata de encontrar la hipótesis $ h $ que minimiza la suma de las desviaciones absolutas \"in-sample\",\n",
        "$$\n",
        "E_{\\mathrm {in}} (h) = \\sum_ {n = 1} ^ {N} \\left | h-y_{n} \\right |\n",
        "$$\n",
        "entoces muestre que su estimación será la mediana \"in-sample\" $ h_{\\text {med}} $, que es cualquier valor para el cual la mitad de los puntos de datos son como máximo $ h_{\\text {med}} $ y la mitad de los datos los puntos son al menos $ h_{\\text {med}} $.\n",
        "\n",
        "**Solución**\n",
        "\n",
        "De manera análoga:\n",
        "$$\\begin{align*} \\frac{\\partial{E_{in}(h)}}{\\partial{h}} &= \\sum_{n=1}^{N}sign(h - y_n) \\\\ \\end{align*}$$\n",
        "\n",
        "Note entonces que $ h_{\\text {med}} $, como se define en el enunciado, hará que la derivada sea cero, minimizando así el error en la muestra.\n",
        "\n",
        "3.   Suponga que $ y_{N} $ se perturba a $ y_{N} + \\ epsilon $, donde $ \\epsilon \\rightarrow \\infty $. Entonces, el punto de datos único $ y_{N} $ se convierte en un valor atípico. ¿Qué sucede con sus dos estimadores $ h_{\\text {mean}} $ y $ h_{\\text {med}}? $\n",
        "\n",
        "**Solución**\n",
        "\n",
        "Sabemos que la media es bastante suceptible a los datos atípicos por lo cual dicha perturbación hará que $h_{mean}$ aumente demasiado, no obstante, $h_{med}$ puede mantenerse igual ya que el número de datos por arriba de $h_{med}$ será el mismo."
      ]
    }
  ]
}